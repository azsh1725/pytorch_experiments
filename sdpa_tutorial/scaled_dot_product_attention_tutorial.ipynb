{
 "cells": [
  {
   "cell_type": "code",
   "execution_count": 12,
   "metadata": {
    "collapsed": false,
    "ExecuteTime": {
     "end_time": "2024-01-02T20:55:46.894533347Z",
     "start_time": "2024-01-02T20:55:46.700630394Z"
    }
   },
   "outputs": [],
   "source": [
    "# For tips on running notebooks in Google Colab, see\n",
    "# https://pytorch.org/tutorials/beginner/colab\n",
    "%matplotlib inline"
   ]
  },
  {
   "cell_type": "markdown",
   "metadata": {},
   "source": [
    "\n",
    "# (Beta) Implementing High-Performance Transformers with Scaled Dot Product Attention (SDPA)\n",
    "\n",
    "\n",
    "**Author:** [Driss Guessous](https://github.com/drisspg)\n"
   ]
  },
  {
   "cell_type": "markdown",
   "metadata": {},
   "source": [
    "## Summary\n",
    "\n",
    "In this tutorial, we want to highlight a new ``torch.nn.functional`` function\n",
    "that can be helpful for implementing transformer architectures. The\n",
    "function is named ``torch.nn.functional.scaled_dot_product_attention``.\n",
    "For detailed description of the function, see the [PyTorch documentation](https://pytorch.org/docs/master/generated/torch.nn.functional.scaled_dot_product_attention.html#torch.nn.functional.scaled_dot_product_attention)_.\n",
    "This function has already been incorporated into ``torch.nn.MultiheadAttention`` and ``torch.nn.TransformerEncoderLayer``.\n",
    "\n",
    "## Overview\n",
    "At a high level, this PyTorch function calculates the\n",
    "scaled dot product attention (SDPA) between query, key, and value according to\n",
    "the definition found in the paper [Attention is all you\n",
    "need](https://arxiv.org/abs/1706.03762)_. While this function can\n",
    "be written in PyTorch using existing functions, a fused implementation can provide\n",
    "large performance benefits over a naive implementation.\n",
    "\n",
    "## Fused implementations\n",
    "\n",
    "For CUDA tensor inputs, the function will dispatch into one of the following\n",
    "implementations:\n",
    "\n",
    "* [FlashAttention: Fast and Memory-Efficient Exact Attention with IO-Awareness](https://arxiv.org/abs/2205.14135)_\n",
    "* [Memory-Efficient Attention](https://github.com/facebookresearch/xformers)_\n",
    "* A PyTorch implementation defined in C++\n",
    "\n",
    "<div class=\"alert alert-info\"><h4>Note</h4><p>This tutorial requires PyTorch 2.0.0 or later.</p></div>\n",
    "\n",
    "\n"
   ]
  },
  {
   "cell_type": "code",
   "execution_count": 14,
   "metadata": {
    "collapsed": false,
    "ExecuteTime": {
     "end_time": "2024-01-02T20:55:56.007973438Z",
     "start_time": "2024-01-02T20:55:56.000484296Z"
    }
   },
   "outputs": [
    {
     "data": {
      "text/plain": "tensor([[[ 0.2015, -0.5153,  0.1003, -0.0570,  0.0180,  0.1413, -0.1125,\n           0.1694],\n         [-0.6787, -0.0733,  0.4350, -0.3672,  0.8083,  1.1688, -1.5191,\n          -0.0096],\n         [ 0.2091, -0.4165,  0.0841,  0.2090, -0.8307, -0.2232,  0.3950,\n           0.0273]],\n\n        [[-0.2814, -0.7992,  0.7071, -0.7392, -0.3443, -0.0457,  0.2301,\n           0.2525],\n         [-0.3134, -0.8648,  1.5552, -0.3286, -0.1665,  1.1325,  0.1950,\n          -0.2003],\n         [-0.3818, -0.7382,  1.3731, -0.3598, -0.0563,  1.1311,  0.2092,\n          -0.2164]]], device='cuda:0')"
     },
     "execution_count": 14,
     "metadata": {},
     "output_type": "execute_result"
    }
   ],
   "source": [
    "import torch\n",
    "import torch.nn as nn\n",
    "import torch.nn.functional as F\n",
    "\n",
    "device = \"cuda\" if torch.cuda.is_available() else \"cpu\"\n",
    "\n",
    "# Example Usage:\n",
    "query, key, value = torch.randn(2, 3, 8, device=device), torch.randn(2, 3, 8, device=device), torch.randn(2, 3, 8,\n",
    "                                                                                                          device=device)\n",
    "F.scaled_dot_product_attention(query, key, value)"
   ]
  },
  {
   "cell_type": "markdown",
   "metadata": {},
   "source": [
    "## Explicit Dispatcher Control\n",
    "\n",
    "While the function will implicitly dispatch to one of the three\n",
    "implementations, the user can also explicitly control the dispatch via\n",
    "the use of a context manager. This context manager allows users to\n",
    "explicitly disable certain implementations. If a user wants to ensure\n",
    "the function is indeed using the fastest implementation for their\n",
    "specific inputs, the context manager can be used to sweep through\n",
    "measuring performance.\n",
    "\n",
    "\n"
   ]
  },
  {
   "cell_type": "code",
   "execution_count": 5,
   "outputs": [
    {
     "data": {
      "text/plain": "_CudaDeviceProperties(name='NVIDIA GeForce RTX 3090', major=8, minor=6, total_memory=24267MB, multi_processor_count=82)"
     },
     "execution_count": 5,
     "metadata": {},
     "output_type": "execute_result"
    }
   ],
   "source": [
    "torch.cuda.get_device_properties(device)"
   ],
   "metadata": {
    "collapsed": false,
    "ExecuteTime": {
     "end_time": "2024-01-02T20:27:42.087685179Z",
     "start_time": "2024-01-02T20:27:42.045720184Z"
    }
   }
  },
  {
   "cell_type": "code",
   "execution_count": 15,
   "metadata": {
    "collapsed": false,
    "ExecuteTime": {
     "end_time": "2024-01-02T20:56:05.719029338Z",
     "start_time": "2024-01-02T20:56:02.267579529Z"
    }
   },
   "outputs": [
    {
     "name": "stdout",
     "output_type": "stream",
     "text": [
      "The default implementation runs in 4029.028 microseconds\n",
      "The math implementation runs in 13059.750 microseconds\n",
      "The flash attention implementation runs in 5024.390 microseconds\n",
      "The memory efficient implementation runs in 5076.002 microseconds\n"
     ]
    }
   ],
   "source": [
    "# Lets define a helpful benchmarking function:\n",
    "import torch.utils.benchmark as benchmark\n",
    "\n",
    "\n",
    "def benchmark_torch_function_in_microseconds(f, *args, **kwargs):\n",
    "    t0 = benchmark.Timer(\n",
    "        stmt=\"f(*args, **kwargs)\", globals={\"args\": args, \"kwargs\": kwargs, \"f\": f}\n",
    "    )\n",
    "    return t0.blocked_autorange().mean * 1e6\n",
    "\n",
    "\n",
    "# Lets define the hyper-parameters of our input\n",
    "batch_size = 32\n",
    "max_sequence_len = 1024\n",
    "num_heads = 32\n",
    "embed_dimension = 32\n",
    "\n",
    "dtype = torch.float16\n",
    "\n",
    "query = torch.rand(batch_size, num_heads, max_sequence_len, embed_dimension, device=device, dtype=dtype)\n",
    "key = torch.rand(batch_size, num_heads, max_sequence_len, embed_dimension, device=device, dtype=dtype)\n",
    "value = torch.rand(batch_size, num_heads, max_sequence_len, embed_dimension, device=device, dtype=dtype)\n",
    "\n",
    "print(\n",
    "    f\"The default implementation runs in {benchmark_torch_function_in_microseconds(F.scaled_dot_product_attention, query, key, value):.3f} microseconds\")\n",
    "\n",
    "# Lets explore the speed of each of the 3 implementations\n",
    "from torch.backends.cuda import sdp_kernel, SDPBackend\n",
    "\n",
    "# Helpful arguments mapper\n",
    "backend_map = {\n",
    "    SDPBackend.MATH: {\"enable_math\": True, \"enable_flash\": False, \"enable_mem_efficient\": False},\n",
    "    SDPBackend.FLASH_ATTENTION: {\"enable_math\": False, \"enable_flash\": True, \"enable_mem_efficient\": False},\n",
    "    SDPBackend.EFFICIENT_ATTENTION: {\n",
    "        \"enable_math\": False, \"enable_flash\": False, \"enable_mem_efficient\": True}\n",
    "}\n",
    "\n",
    "with sdp_kernel(**backend_map[SDPBackend.MATH]):\n",
    "    print(\n",
    "        f\"The math implementation runs in {benchmark_torch_function_in_microseconds(F.scaled_dot_product_attention, query, key, value):.3f} microseconds\")\n",
    "\n",
    "with sdp_kernel(**backend_map[SDPBackend.FLASH_ATTENTION]):\n",
    "    try:\n",
    "        print(\n",
    "            f\"The flash attention implementation runs in {benchmark_torch_function_in_microseconds(F.scaled_dot_product_attention, query, key, value):.3f} microseconds\")\n",
    "    except RuntimeError:\n",
    "        print(\"FlashAttention is not supported. See warnings for reasons.\")\n",
    "\n",
    "with sdp_kernel(**backend_map[SDPBackend.EFFICIENT_ATTENTION]):\n",
    "    try:\n",
    "        print(\n",
    "            f\"The memory efficient implementation runs in {benchmark_torch_function_in_microseconds(F.scaled_dot_product_attention, query, key, value):.3f} microseconds\")\n",
    "    except RuntimeError:\n",
    "        print(\"EfficientAttention is not supported. See warnings for reasons.\")"
   ]
  },
  {
   "cell_type": "markdown",
   "metadata": {},
   "source": [
    "## Hardware dependence\n",
    "\n",
    "Depending on what machine you ran the above cell on and what hardware is\n",
    "available, your results might be different.\n",
    "- If you don’t have a GPU and are running on CPU then the context manager\n",
    "will have no effect and all three runs should return similar timings.\n",
    "- Depending on what compute capability your graphics card supports\n",
    "flash attention or memory efficient might have failed.\n",
    "\n"
   ]
  },
  {
   "cell_type": "markdown",
   "metadata": {},
   "source": [
    "## Causal Self Attention\n",
    "\n",
    "Below is an example implementation of a multi-headed causal self\n",
    "attention block inspired by\n",
    "[Andrej Karpathy NanoGPT](https://github.com/karpathy/nanoGPT)_ repository.\n",
    "\n",
    "\n"
   ]
  },
  {
   "cell_type": "code",
   "execution_count": 16,
   "outputs": [],
   "source": [
    "num_heads = 8\n",
    "heads_per_dim = 64\n",
    "embed_dimension = num_heads * heads_per_dim\n",
    "dtype = torch.float16"
   ],
   "metadata": {
    "collapsed": false,
    "ExecuteTime": {
     "end_time": "2024-01-02T20:56:26.514521218Z",
     "start_time": "2024-01-02T20:56:26.499843599Z"
    }
   }
  },
  {
   "cell_type": "code",
   "execution_count": 22,
   "metadata": {
    "collapsed": false,
    "ExecuteTime": {
     "end_time": "2024-01-02T20:57:28.278268097Z",
     "start_time": "2024-01-02T20:57:28.262339539Z"
    }
   },
   "outputs": [
    {
     "name": "stdout",
     "output_type": "stream",
     "text": [
      "CausalSelfAttention(\n",
      "  (c_attn): Linear(in_features=512, out_features=1536, bias=False)\n",
      "  (c_proj): Linear(in_features=512, out_features=512, bias=False)\n",
      "  (resid_dropout): Dropout(p=0.1, inplace=False)\n",
      ")\n"
     ]
    }
   ],
   "source": [
    "class CausalSelfAttention(nn.Module):\n",
    "\n",
    "    def __init__(self, num_heads: int, embed_dimension: int, bias: bool = False, is_causal: bool = False,\n",
    "                 dropout: float = 0.0):\n",
    "        super().__init__()\n",
    "        assert embed_dimension % num_heads == 0\n",
    "        # key, query, value projections for all heads, but in a batch\n",
    "        self.c_attn = nn.Linear(embed_dimension, 3 * embed_dimension, bias=bias)\n",
    "        # output projection\n",
    "        self.c_proj = nn.Linear(embed_dimension, embed_dimension, bias=bias)\n",
    "        # regularization\n",
    "        self.dropout = dropout\n",
    "        self.resid_dropout = nn.Dropout(dropout)\n",
    "        self.num_heads = num_heads\n",
    "        self.embed_dimension = embed_dimension\n",
    "        # Perform causal masking\n",
    "        self.is_causal = is_causal\n",
    "\n",
    "    def forward(self, x):\n",
    "        # calculate query, key, values for all heads in batch and move head forward to be the batch dim\n",
    "        query_projected = self.c_attn(x)\n",
    "\n",
    "        batch_size = query_projected.size(0)\n",
    "        embed_dim = query_projected.size(2)\n",
    "        head_dim = embed_dim // (self.num_heads * 3)\n",
    "\n",
    "        query, key, value = query_projected.chunk(3, -1)\n",
    "        query = query.view(batch_size, -1, self.num_heads, head_dim).transpose(1, 2)\n",
    "        key = key.view(batch_size, -1, self.num_heads, head_dim).transpose(1, 2)\n",
    "        value = value.view(batch_size, -1, self.num_heads, head_dim).transpose(1, 2)\n",
    "\n",
    "        if self.training:\n",
    "            dropout = self.dropout\n",
    "            is_causal = self.is_causal\n",
    "        else:\n",
    "            dropout = 0.0\n",
    "            is_causal = False\n",
    "\n",
    "        y = F.scaled_dot_product_attention(query, key, value, attn_mask=None, dropout_p=dropout, is_causal=is_causal)\n",
    "        y = y.transpose(1, 2).view(batch_size, -1, self.num_heads * head_dim)\n",
    "\n",
    "        y = self.resid_dropout(self.c_proj(y))\n",
    "        return y\n",
    "\n",
    "model = CausalSelfAttention(num_heads=num_heads, embed_dimension=embed_dimension, bias=False, is_causal=True,\n",
    "                            dropout=0.1).to(\"cuda\").to(dtype).eval()\n",
    "print(model)"
   ]
  },
  {
   "cell_type": "markdown",
   "metadata": {},
   "source": [
    "### ``NestedTensor`` and Dense tensor support\n",
    "\n",
    "SDPA supports both ``NestedTensor`` and Dense tensor inputs. ``NestedTensors`` handle the case where the input is a batch of variable length sequences\n",
    "without needing to pad each sequence to the maximum length in the batch. For more information about ``NestedTensors`` see\n",
    "[torch.nested](https://pytorch.org/docs/stable/nested.html)_ and [NestedTensors Tutorial](https://pytorch.org/tutorials/prototype/nestedtensor.html)_.\n",
    "\n",
    "\n"
   ]
  },
  {
   "cell_type": "code",
   "execution_count": 21,
   "outputs": [],
   "source": [
    "torch.cuda.empty_cache()"
   ],
   "metadata": {
    "collapsed": false,
    "ExecuteTime": {
     "end_time": "2024-01-02T20:57:24.890708388Z",
     "start_time": "2024-01-02T20:57:24.881682143Z"
    }
   }
  },
  {
   "cell_type": "code",
   "execution_count": 23,
   "metadata": {
    "collapsed": false,
    "ExecuteTime": {
     "end_time": "2024-01-02T20:57:49.487488829Z",
     "start_time": "2024-01-02T20:57:49.443180413Z"
    }
   },
   "outputs": [
    {
     "name": "stdout",
     "output_type": "stream",
     "text": [
      "FlashAttention is not supported. See warnings for reasons.\n"
     ]
    },
    {
     "name": "stderr",
     "output_type": "stream",
     "text": [
      "/tmp/ipykernel_30274/1074900002.py:39: UserWarning: Memory efficient kernel not used because: (Triggered internally at ../aten/src/ATen/native/transformers/cuda/sdp_utils.h:527.)\n",
      "  y = F.scaled_dot_product_attention(query, key, value, attn_mask=None, dropout_p=dropout, is_causal=is_causal)\n",
      "/tmp/ipykernel_30274/1074900002.py:39: UserWarning: Memory Efficient attention has been runtime disabled. (Triggered internally at ../aten/src/ATen/native/transformers/cuda/sdp_utils.h:338.)\n",
      "  y = F.scaled_dot_product_attention(query, key, value, attn_mask=None, dropout_p=dropout, is_causal=is_causal)\n",
      "/tmp/ipykernel_30274/1074900002.py:39: UserWarning: Flash attention kernel not used because: (Triggered internally at ../aten/src/ATen/native/transformers/cuda/sdp_utils.h:529.)\n",
      "  y = F.scaled_dot_product_attention(query, key, value, attn_mask=None, dropout_p=dropout, is_causal=is_causal)\n",
      "/tmp/ipykernel_30274/1074900002.py:39: UserWarning: We are not enabling nested Tensors for Flash Attention because of cuda memory errors. (Triggered internally at ../aten/src/ATen/native/transformers/cuda/sdp_utils.h:155.)\n",
      "  y = F.scaled_dot_product_attention(query, key, value, attn_mask=None, dropout_p=dropout, is_causal=is_causal)\n"
     ]
    }
   ],
   "source": [
    "import random\n",
    "\n",
    "\n",
    "def generate_rand_batch(\n",
    "        batch_size,\n",
    "        max_sequence_len,\n",
    "        embed_dimension,\n",
    "        pad_percentage=None,\n",
    "        dtype=torch.float16,\n",
    "        device=\"cuda\",\n",
    "):\n",
    "    if not pad_percentage:\n",
    "        return (\n",
    "            torch.randn(\n",
    "                batch_size,\n",
    "                max_sequence_len,\n",
    "                embed_dimension,\n",
    "                dtype=dtype,\n",
    "                device=device,\n",
    "            ),\n",
    "            None,\n",
    "        )\n",
    "    # Random sequence lengths\n",
    "    seq_len_list = [\n",
    "        int(max_sequence_len * (1 - random.gauss(pad_percentage, 0.01)))\n",
    "        for _ in range(batch_size)\n",
    "    ]\n",
    "    # Make random entry in the batch have max sequence length\n",
    "    seq_len_list[random.randint(0, batch_size - 1)] = max_sequence_len\n",
    "    return (\n",
    "        torch.nested.nested_tensor(\n",
    "            [\n",
    "                torch.randn(seq_len, embed_dimension,\n",
    "                            dtype=dtype, device=device)\n",
    "                for seq_len in seq_len_list\n",
    "            ]\n",
    "        ),\n",
    "        seq_len_list,\n",
    "    )\n",
    "\n",
    "\n",
    "random_nt, _ = generate_rand_batch(8, 128, embed_dimension, pad_percentage=0.5, dtype=dtype, device=device)\n",
    "random_dense, _ = generate_rand_batch(8, 128, embed_dimension, pad_percentage=None, dtype=dtype, device=device)\n",
    "\n",
    "# Currently the fused implementations don't support ``NestedTensor`` for training\n",
    "model.eval()\n",
    "\n",
    "with sdp_kernel(**backend_map[SDPBackend.FLASH_ATTENTION]):\n",
    "    try:\n",
    "        print(f\"Random NT runs in {benchmark_torch_function_in_microseconds(model, random_nt):.3f} microseconds\")\n",
    "        print(f\"Random Dense runs in {benchmark_torch_function_in_microseconds(model, random_dense):.3f} microseconds\")\n",
    "    except RuntimeError:\n",
    "        print(\"FlashAttention is not supported. See warnings for reasons.\")"
   ]
  },
  {
   "cell_type": "markdown",
   "metadata": {},
   "source": [
    "# Using SDPA with ``torch.compile``\n",
    "\n",
    "With the release of PyTorch 2.0, a new feature called\n",
    "``torch.compile()`` has been introduced, which can provide\n",
    "significant performance improvements over eager mode.\n",
    "Scaled dot product attention is fully composable with ``torch.compile()``.\n",
    "To demonstrate this, let's compile the ``CausalSelfAttention`` module using\n",
    "``torch.compile()`` and observe the resulting performance improvements.\n",
    "\n",
    "\n"
   ]
  },
  {
   "cell_type": "code",
   "execution_count": 24,
   "metadata": {
    "collapsed": false,
    "ExecuteTime": {
     "end_time": "2024-01-02T20:58:46.448603880Z",
     "start_time": "2024-01-02T20:58:43.185496540Z"
    }
   },
   "outputs": [
    {
     "name": "stdout",
     "output_type": "stream",
     "text": [
      "The non compiled module runs in  465.657 microseconds\n",
      "The compiled module runs in  459.593 microseconds\n"
     ]
    }
   ],
   "source": [
    "batch_size = 32\n",
    "max_sequence_len = 256\n",
    "x = torch.rand(batch_size, max_sequence_len,\n",
    "               embed_dimension, device=device, dtype=dtype)\n",
    "print(\n",
    "    f\"The non compiled module runs in  {benchmark_torch_function_in_microseconds(model, x):.3f} microseconds\")\n",
    "\n",
    "compiled_model = torch.compile(model)\n",
    "# Let's compile it\n",
    "compiled_model(x)\n",
    "print(\n",
    "    f\"The compiled module runs in  {benchmark_torch_function_in_microseconds(compiled_model, x):.3f} microseconds\")"
   ]
  },
  {
   "cell_type": "markdown",
   "metadata": {},
   "source": [
    "The exact execution time is dependent on machine, however the results for mine:\n",
    "The non compiled module runs in  166.616 microseconds\n",
    "The compiled module runs in  166.726 microseconds\n",
    "That is not what we were expecting. Let's dig a little deeper.\n",
    "PyTorch comes with an amazing built-in profiler that you can use to\n",
    "inspect the performance characteristics of your code.\n",
    "\n",
    "\n"
   ]
  },
  {
   "cell_type": "code",
   "execution_count": 25,
   "metadata": {
    "collapsed": false,
    "ExecuteTime": {
     "end_time": "2024-01-02T20:59:29.511626327Z",
     "start_time": "2024-01-02T20:59:29.176527935Z"
    }
   },
   "outputs": [
    {
     "name": "stderr",
     "output_type": "stream",
     "text": [
      "STAGE:2024-01-02 23:59:29 30274:30274 ActivityProfilerController.cpp:311] Completed Stage: Warm Up\n",
      "STAGE:2024-01-02 23:59:29 30274:30274 ActivityProfilerController.cpp:317] Completed Stage: Collection\n",
      "STAGE:2024-01-02 23:59:29 30274:30274 ActivityProfilerController.cpp:321] Completed Stage: Post Processing\n"
     ]
    },
    {
     "name": "stdout",
     "output_type": "stream",
     "text": [
      "-------------------------------------------------------  ------------  ------------  ------------  ------------  ------------  ------------  ------------  ------------  ------------  ------------  \n",
      "                                                   Name    Self CPU %      Self CPU   CPU total %     CPU total  CPU time avg     Self CUDA   Self CUDA %    CUDA total  CUDA time avg    # of Calls  \n",
      "-------------------------------------------------------  ------------  ------------  ------------  ------------  ------------  ------------  ------------  ------------  ------------  ------------  \n",
      "                         Non-Compilied Causal Attention        12.24%       2.350ms        59.28%      11.381ms      11.381ms       0.000us         0.00%      18.584ms      18.584ms             1  \n",
      "                                           aten::matmul         1.63%     313.000us        22.25%       4.272ms      85.440us       0.000us         0.00%      11.902ms     238.040us            50  \n",
      "                                               aten::mm        16.47%       3.161ms        18.99%       3.646ms      72.920us      10.744ms        64.16%      11.902ms     238.040us            50  \n",
      "                                           aten::linear         1.49%     286.000us        24.44%       4.692ms      93.840us       0.000us         0.00%      11.558ms     231.160us            50  \n",
      "         ampere_fp16_s1688gemm_fp16_128x128_ldg8_f2f_tn         0.00%       0.000us         0.00%       0.000us       0.000us       8.594ms        51.32%       8.594ms     343.760us            25  \n",
      "              aten::_scaled_dot_product_flash_attention         2.96%     569.000us        15.58%       2.992ms     119.680us       0.000us         0.00%       6.682ms     267.280us            25  \n",
      "                     aten::scaled_dot_product_attention         1.22%     234.000us        16.41%       3.150ms     126.000us       0.000us         0.00%       6.445ms     257.800us            25  \n",
      "                         aten::_flash_attention_forward         1.93%     370.000us         4.73%     908.000us      36.320us       5.902ms        35.24%       6.348ms     253.920us            25  \n",
      "void fmha_fwd_loop_kernel<FMHA_kernel_traits<256, 64...         0.00%       0.000us         0.00%       0.000us       0.000us       5.902ms        35.24%       5.902ms     236.080us            25  \n",
      "ampere_fp16_s1688gemm_fp16_128x128_ldg8_f2f_stages_3...         0.00%       0.000us         0.00%       0.000us       0.000us       2.150ms        12.84%       2.150ms      86.000us            25  \n",
      "-------------------------------------------------------  ------------  ------------  ------------  ------------  ------------  ------------  ------------  ------------  ------------  ------------  \n",
      "Self CPU time total: 19.198ms\n",
      "Self CUDA time total: 16.746ms\n",
      "\n",
      "-------------------------------------------------------  ------------  ------------  ------------  ------------  ------------  ------------  ------------  ------------  ------------  ------------  \n",
      "                                                   Name    Self CPU %      Self CPU   CPU total %     CPU total  CPU time avg     Self CUDA   Self CUDA %    CUDA total  CUDA time avg    # of Calls  \n",
      "-------------------------------------------------------  ------------  ------------  ------------  ------------  ------------  ------------  ------------  ------------  ------------  ------------  \n",
      "                              Compiled Causal Attention        10.73%       2.112ms        51.30%      10.093ms      10.093ms       0.000us         0.00%      18.513ms      18.513ms             1  \n",
      "                                       CompiledFunction        19.84%       3.903ms        40.28%       7.925ms     317.000us       0.000us         0.00%      18.513ms     740.520us            25  \n",
      "                                               aten::mm         5.00%     984.000us         6.85%       1.348ms      26.960us      10.861ms        63.24%      11.603ms     232.060us            50  \n",
      "         ampere_fp16_s1688gemm_fp16_128x128_ldg8_f2f_tn         0.00%       0.000us         0.00%       0.000us       0.000us       8.711ms        50.72%       8.711ms     348.440us            25  \n",
      "              aten::_scaled_dot_product_flash_attention         1.81%     357.000us        10.43%       2.052ms      82.080us       0.000us         0.00%       6.910ms     276.400us            25  \n",
      "                         aten::_flash_attention_forward         1.51%     297.000us         3.35%     660.000us      26.400us       6.212ms        36.17%       6.657ms     266.280us            25  \n",
      "void fmha_fwd_loop_kernel<FMHA_kernel_traits<256, 64...         0.00%       0.000us         0.00%       0.000us       0.000us       6.212ms        36.17%       6.212ms     248.480us            25  \n",
      "ampere_fp16_s1688gemm_fp16_128x128_ldg8_f2f_stages_3...         0.00%       0.000us         0.00%       0.000us       0.000us       2.150ms        12.52%       2.150ms      86.000us            25  \n",
      "                                       cudaLaunchKernel         3.53%     694.000us         3.53%     694.000us       5.552us     594.000us         3.46%     594.000us       4.752us           125  \n",
      "cudaOccupancyMaxActiveBlocksPerMultiprocessorWithFla...         0.06%      11.000us         0.06%      11.000us       0.110us     451.000us         2.63%     451.000us       4.510us           100  \n",
      "-------------------------------------------------------  ------------  ------------  ------------  ------------  ------------  ------------  ------------  ------------  ------------  ------------  \n",
      "Self CPU time total: 19.676ms\n",
      "Self CUDA time total: 17.173ms\n"
     ]
    },
    {
     "name": "stderr",
     "output_type": "stream",
     "text": [
      "STAGE:2024-01-02 23:59:29 30274:30274 ActivityProfilerController.cpp:311] Completed Stage: Warm Up\n",
      "STAGE:2024-01-02 23:59:29 30274:30274 ActivityProfilerController.cpp:317] Completed Stage: Collection\n",
      "STAGE:2024-01-02 23:59:29 30274:30274 ActivityProfilerController.cpp:321] Completed Stage: Post Processing\n"
     ]
    }
   ],
   "source": [
    "from torch.profiler import profile, record_function, ProfilerActivity\n",
    "\n",
    "activities = [ProfilerActivity.CPU]\n",
    "if device == 'cuda':\n",
    "    activities.append(ProfilerActivity.CUDA)\n",
    "\n",
    "with profile(activities=activities, record_shapes=False) as prof:\n",
    "    with record_function(\" Non-Compilied Causal Attention\"):\n",
    "        for _ in range(25):\n",
    "            model(x)\n",
    "print(prof.key_averages().table(sort_by=\"cuda_time_total\", row_limit=10))\n",
    "\n",
    "with profile(activities=activities, record_shapes=False) as prof:\n",
    "    with record_function(\"Compiled Causal Attention\"):\n",
    "        for _ in range(25):\n",
    "            compiled_model(x)\n",
    "print(prof.key_averages().table(sort_by=\"cuda_time_total\", row_limit=10))\n",
    "\n",
    "# For even more insights, you can export the trace and use ``chrome://tracing`` to view the results\n",
    "# ::\n",
    "#\n",
    "#    prof.export_chrome_trace(\"compiled_causal_attention_trace.json\")."
   ]
  },
  {
   "cell_type": "markdown",
   "metadata": {},
   "source": [
    "The previous code snippet generates a report of the top 10 PyTorch functions\n",
    "that consumed the most GPU execution time, for both the compiled and non-compiled module.\n",
    "The analysis reveals that the majority of time spent on the GPU is concentrated\n",
    "on the same set of functions for both modules.\n",
    "The reason for this here is that ``torch.compile`` is very good at removing the\n",
    "framework overhead associated with PyTorch. If your model is launching\n",
    "large, efficient CUDA kernels, which in this case ``CausalSelfAttention``\n",
    "is, then the overhead of PyTorch can be hidden.\n",
    "\n",
    "In reality, your module does not normally consist of a singular\n",
    "``CausalSelfAttention`` block. When experimenting with [Andrej Karpathy NanoGPT](https://github.com/karpathy/nanoGPT)_ repository, compiling\n",
    "the module took the time per train step from: ``6090.49ms`` to\n",
    "``3273.17ms``! This was done on commit: ``ae3a8d5`` of NanoGPT training on\n",
    "the Shakespeare dataset.\n",
    "\n",
    "\n"
   ]
  },
  {
   "cell_type": "markdown",
   "metadata": {},
   "source": [
    "# Conclusion\n",
    "\n",
    "In this tutorial, we have demonstrated the basic usage of\n",
    "``torch.nn.functional.scaled_dot_product_attention``. We have shown how\n",
    "the ``sdp_kernel`` context manager can be used to assert a certain\n",
    "implementation is used on GPU. As well, we built a simple\n",
    "``CausalSelfAttention`` module that works with ``NestedTensor`` and is torch\n",
    "compilable. In the process we have shown how to the profiling tools can\n",
    "be used to explore the performance characteristics of a user defined\n",
    "module.\n",
    "\n",
    "\n"
   ]
  }
 ],
 "metadata": {
  "kernelspec": {
   "display_name": "Python 3",
   "language": "python",
   "name": "python3"
  },
  "language_info": {
   "codemirror_mode": {
    "name": "ipython",
    "version": 3
   },
   "file_extension": ".py",
   "mimetype": "text/x-python",
   "name": "python",
   "nbconvert_exporter": "python",
   "pygments_lexer": "ipython3",
   "version": "3.10.13"
  }
 },
 "nbformat": 4,
 "nbformat_minor": 0
}
